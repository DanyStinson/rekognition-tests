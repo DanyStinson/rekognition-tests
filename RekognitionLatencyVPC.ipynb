{
 "cells": [
  {
   "cell_type": "markdown",
   "id": "4808f36a-25b3-4ec2-a84c-36f7833ccd14",
   "metadata": {},
   "source": [
    "# Rekognition via VPC"
   ]
  },
  {
   "cell_type": "code",
   "execution_count": 1,
   "id": "b6b9755b-7601-4d42-a6c9-142b17c3bf70",
   "metadata": {},
   "outputs": [],
   "source": [
    "import time\n",
    "import boto3\n",
    "import glob\n",
    "\n",
    "client_rek = boto3.client('rekognition')\n",
    "client_s3 = boto3.client('s3')"
   ]
  },
  {
   "cell_type": "code",
   "execution_count": 2,
   "id": "f6f917b8-72d7-431e-b396-cb677e8e1aac",
   "metadata": {},
   "outputs": [],
   "source": [
    "def get_all_images(bucket_name, prefix):\n",
    "    image_list = []\n",
    "    response = response = client_s3.list_objects_v2(\n",
    "        Bucket= bucket_name,\n",
    "        Prefix= prefix)\n",
    "    for s3_object in response[\"Contents\"]:\n",
    "        if (s3_object[\"Size\"] > 0):\n",
    "            image_list.append(s3_object[\"Key\"])\n",
    "    return image_list"
   ]
  },
  {
   "cell_type": "code",
   "execution_count": 3,
   "id": "d0399860-f715-46fb-bbb1-a1cfb93cab68",
   "metadata": {},
   "outputs": [],
   "source": [
    "bucket_name = \"rkg-latency-tests\""
   ]
  },
  {
   "cell_type": "markdown",
   "id": "66b4975b-d4bd-4a06-9721-1a4716a43165",
   "metadata": {},
   "source": [
    "## Detect Labels"
   ]
  },
  {
   "cell_type": "markdown",
   "id": "b4789bcf-4016-4583-8496-d57582550e93",
   "metadata": {},
   "source": [
    "### Local Images"
   ]
  },
  {
   "cell_type": "code",
   "execution_count": 4,
   "id": "6a1782c8-6bd6-484c-b8eb-77f97164812f",
   "metadata": {},
   "outputs": [],
   "source": [
    "def process_local_images_labels(folder):\n",
    "    images = glob.glob('{}/*'.format(folder))\n",
    "    start = time.time()\n",
    "    for image in images:\n",
    "        with open(image, 'rb') as imageBytes:\n",
    "            response = client_rek.detect_labels(\n",
    "                Image={'Bytes': imageBytes.read()}\n",
    "            )\n",
    "    total_time = time.time() - start\n",
    "    return total_time   "
   ]
  },
  {
   "cell_type": "code",
   "execution_count": 5,
   "id": "028f7b83-51e7-4a49-bd61-b4d2fd6bf2cc",
   "metadata": {},
   "outputs": [
    {
     "name": "stdout",
     "output_type": "stream",
     "text": [
      "Time to process all images: 1.2122044563293457\n"
     ]
    }
   ],
   "source": [
    "total_time = process_local_images_labels(\"media/labels\")\n",
    "print(\"Time to process all images: {}\".format(total_time))"
   ]
  },
  {
   "cell_type": "markdown",
   "id": "53481210-c4d4-44c1-b7dd-b87ef66df582",
   "metadata": {},
   "source": [
    "### Images in S3"
   ]
  },
  {
   "cell_type": "code",
   "execution_count": 6,
   "id": "8024ba42-53ae-4c59-9650-84f4131e6f96",
   "metadata": {},
   "outputs": [],
   "source": [
    "def process_s3_images_labels(bucket_name):\n",
    "    image_list = get_all_images(bucket_name, \"labels\")\n",
    "    start = time.time()\n",
    "    for image in image_list:\n",
    "        response = client_rek.detect_labels(\n",
    "            Image={\n",
    "                'S3Object': {\n",
    "                    'Bucket': bucket_name,\n",
    "                    'Name': image\n",
    "                }\n",
    "            }\n",
    "        )\n",
    "    total_time = time.time() - start\n",
    "    return total_time "
   ]
  },
  {
   "cell_type": "code",
   "execution_count": 7,
   "id": "05286555-5160-4fa2-ad96-d859d6d8027e",
   "metadata": {},
   "outputs": [
    {
     "name": "stdout",
     "output_type": "stream",
     "text": [
      "Time to process all images: 1.5267958641052246\n"
     ]
    }
   ],
   "source": [
    "total_time = process_s3_images_labels(bucket_name)\n",
    "print(\"Time to process all images: {}\".format(total_time))  "
   ]
  },
  {
   "cell_type": "markdown",
   "id": "20886211-a2cb-452c-b737-26ac78fc660d",
   "metadata": {},
   "source": [
    "## Detect Content Moderation"
   ]
  },
  {
   "cell_type": "markdown",
   "id": "4a745458-db1d-4e9b-9cfe-0de9eedd37f0",
   "metadata": {},
   "source": [
    "### Local Images"
   ]
  },
  {
   "cell_type": "code",
   "execution_count": 8,
   "id": "6e99836f-bb08-4318-b518-d0a30b80e1ba",
   "metadata": {},
   "outputs": [],
   "source": [
    "def process_local_images_moderation(folder):\n",
    "    images = glob.glob('{}/*'.format(folder))\n",
    "    start = time.time()\n",
    "    for image in images:\n",
    "        with open(image, 'rb') as imageBytes:\n",
    "            response = client_rek.detect_moderation_labels(\n",
    "                Image={'Bytes': imageBytes.read()}\n",
    "            )\n",
    "    total_time = time.time() - start\n",
    "    return total_time   "
   ]
  },
  {
   "cell_type": "code",
   "execution_count": 9,
   "id": "bc45f84c-722a-4577-b03d-6c43c71e03e7",
   "metadata": {},
   "outputs": [
    {
     "name": "stdout",
     "output_type": "stream",
     "text": [
      "Time to process all images: 1.7448678016662598\n"
     ]
    }
   ],
   "source": [
    "total_time = process_local_images_moderation(\"media/moderation\")\n",
    "print(\"Time to process all images: {}\".format(total_time))"
   ]
  },
  {
   "cell_type": "markdown",
   "id": "8a38f5a8-8da9-4fb2-97fa-4c3c737c6fbd",
   "metadata": {},
   "source": [
    "### Images in S3"
   ]
  },
  {
   "cell_type": "code",
   "execution_count": 10,
   "id": "0aab1cc3-e53a-443c-913a-27ebed3aa24f",
   "metadata": {},
   "outputs": [],
   "source": [
    "def process_s3_images_moderation(bucket_name):\n",
    "    image_list = get_all_images(bucket_name,\"moderation\")\n",
    "    start = time.time()\n",
    "    for image in image_list:\n",
    "        response = client_rek.detect_moderation_labels(\n",
    "            Image={\n",
    "                'S3Object': {\n",
    "                    'Bucket': bucket_name,\n",
    "                    'Name': image\n",
    "                }\n",
    "            }\n",
    "        )\n",
    "    total_time = time.time() - start\n",
    "    return total_time"
   ]
  },
  {
   "cell_type": "code",
   "execution_count": 11,
   "id": "45e89df3-ea93-4d7b-9a0f-1e82eab39277",
   "metadata": {},
   "outputs": [
    {
     "name": "stdout",
     "output_type": "stream",
     "text": [
      "Time to process all images: 1.8632268905639648\n"
     ]
    }
   ],
   "source": [
    "total_time = process_s3_images_moderation(bucket_name)\n",
    "print(\"Time to process all images: {}\".format(total_time))  "
   ]
  },
  {
   "cell_type": "markdown",
   "id": "33fee195-8f12-4457-a494-746c62efe824",
   "metadata": {},
   "source": [
    "## Detect Faces"
   ]
  },
  {
   "cell_type": "markdown",
   "id": "42e4036c-d8ed-4b73-8f9c-013cceb62cf7",
   "metadata": {},
   "source": [
    "### Local Images"
   ]
  },
  {
   "cell_type": "code",
   "execution_count": 12,
   "id": "77b7510a-b208-4dfc-84ff-22271b1ce035",
   "metadata": {},
   "outputs": [],
   "source": [
    "def process_local_images_faces(folder):\n",
    "    images = glob.glob('{}/*'.format(folder))\n",
    "    start = time.time()\n",
    "    for image in images:\n",
    "        with open(image, 'rb') as imageBytes:\n",
    "            response = client_rek.detect_labels(\n",
    "                Image={'Bytes': imageBytes.read()}\n",
    "            )\n",
    "    total_time = time.time() - start\n",
    "    return total_time"
   ]
  },
  {
   "cell_type": "code",
   "execution_count": 13,
   "id": "a138d7f3-ffec-4c43-b352-276e9bba3896",
   "metadata": {},
   "outputs": [
    {
     "name": "stdout",
     "output_type": "stream",
     "text": [
      "Time to process all images: 1.6686251163482666\n"
     ]
    }
   ],
   "source": [
    "total_time = process_local_images_faces(\"media/faces\")\n",
    "print(\"Time to process all images: {}\".format(total_time))       "
   ]
  },
  {
   "cell_type": "markdown",
   "id": "7fbd95c7-9524-4cac-a4ad-358d5e9059fc",
   "metadata": {},
   "source": [
    "### Images in S3"
   ]
  },
  {
   "cell_type": "code",
   "execution_count": 14,
   "id": "5bcc9f58-60f4-47e5-9fe8-4c4aa6b2f250",
   "metadata": {},
   "outputs": [],
   "source": [
    "def process_s3_images_faces(bucket_name):\n",
    "    image_list = get_all_images(bucket_name, \"faces\")\n",
    "    start = time.time()\n",
    "    for image in image_list:\n",
    "        response = client_rek.detect_labels(\n",
    "            Image={\n",
    "                'S3Object': {\n",
    "                    'Bucket': bucket_name,\n",
    "                    'Name': image\n",
    "                }\n",
    "            }\n",
    "        )\n",
    "    total_time = time.time() - start\n",
    "    return total_time"
   ]
  },
  {
   "cell_type": "code",
   "execution_count": 15,
   "id": "fc8d0664-4bc5-4492-aa91-8ee2caa1d28b",
   "metadata": {},
   "outputs": [
    {
     "name": "stdout",
     "output_type": "stream",
     "text": [
      "Time to process all images: 1.919269323348999\n"
     ]
    }
   ],
   "source": [
    "total_time = process_s3_images_faces(bucket_name)\n",
    "print(\"Time to process all images: {}\".format(total_time)) "
   ]
  },
  {
   "cell_type": "markdown",
   "id": "97babb0d-53a7-4929-abf9-630d255a319c",
   "metadata": {},
   "source": [
    "## Average"
   ]
  },
  {
   "cell_type": "code",
   "execution_count": 17,
   "id": "04680798-9a8f-47b7-909a-5d501c7c5c3d",
   "metadata": {},
   "outputs": [
    {
     "name": "stdout",
     "output_type": "stream",
     "text": [
      "Average of 20 calls to labels using local images via VPC is 1.32235\n",
      "Average of 20 calls to labels using S3 via VPC is 1.2789\n",
      "Average of 20 calls to moderation using local images via VPC is 1.4919000000000002\n",
      "Average of 20 calls to moderation using S3 via VPC is 1.32515\n",
      "Average of 20 calls to faces using local images via VPC is 1.2424\n",
      "Average of 20 calls to faces using S3 via VPC is 1.32985\n"
     ]
    }
   ],
   "source": [
    "total_labels_local = 0\n",
    "total_labels_s3 = 0\n",
    "total_moderation_local = 0\n",
    "total_moderation_s3 = 0\n",
    "total_faces_local = 0\n",
    "total_faces_s3 = 0\n",
    "\n",
    "for x in range(20):\n",
    "    total_labels_local += round(process_local_images_labels(\"media/labels\"),3)\n",
    "    total_labels_s3 += round(process_s3_images_labels(bucket_name),3)\n",
    "    total_moderation_local += round(process_local_images_moderation(\"media/moderation\"),3)\n",
    "    total_moderation_s3 += round(process_s3_images_labels(bucket_name),3)\n",
    "    total_faces_local += round(process_s3_images_labels(bucket_name),3)\n",
    "    total_faces_s3 += round(process_local_images_faces(\"media/faces\"),3)\n",
    "    \n",
    "print(\"Average of 20 calls to labels using local images via VPC is {}\".format(total_labels_local/20))\n",
    "print(\"Average of 20 calls to labels using S3 via VPC is {}\".format(total_labels_s3/20))\n",
    "print(\"Average of 20 calls to moderation using local images via VPC is {}\".format(total_moderation_local/20))\n",
    "print(\"Average of 20 calls to moderation using S3 via VPC is {}\".format(total_moderation_s3/20))\n",
    "print(\"Average of 20 calls to faces using local images via VPC is {}\".format(total_faces_local/20))\n",
    "print(\"Average of 20 calls to faces using S3 via VPC is {}\".format(total_faces_s3/20))\n"
   ]
  },
  {
   "cell_type": "code",
   "execution_count": null,
   "id": "1f6bba1e-e3ef-41d0-a649-e010f54ee743",
   "metadata": {},
   "outputs": [],
   "source": []
  }
 ],
 "metadata": {
  "kernelspec": {
   "display_name": "conda_python3",
   "language": "python",
   "name": "conda_python3"
  },
  "language_info": {
   "codemirror_mode": {
    "name": "ipython",
    "version": 3
   },
   "file_extension": ".py",
   "mimetype": "text/x-python",
   "name": "python",
   "nbconvert_exporter": "python",
   "pygments_lexer": "ipython3",
   "version": "3.8.12"
  }
 },
 "nbformat": 4,
 "nbformat_minor": 5
}
